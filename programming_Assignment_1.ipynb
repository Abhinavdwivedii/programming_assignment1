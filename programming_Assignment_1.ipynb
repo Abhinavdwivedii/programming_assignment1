{
  "nbformat": 4,
  "nbformat_minor": 0,
  "metadata": {
    "colab": {
      "provenance": []
    },
    "kernelspec": {
      "name": "python3",
      "display_name": "Python 3"
    },
    "language_info": {
      "name": "python"
    }
  },
  "cells": [
    {
      "cell_type": "code",
      "execution_count": 1,
      "metadata": {
        "colab": {
          "base_uri": "https://localhost:8080/"
        },
        "id": "hpKlJEBJfXki",
        "outputId": "dab1868d-a5e3-467a-d14a-32c7d121c937"
      },
      "outputs": [
        {
          "output_type": "stream",
          "name": "stdout",
          "text": [
            "Hello Python\n"
          ]
        }
      ],
      "source": [
        "#Answer 1\n",
        "\n",
        "print(\"Hello Python\")"
      ]
    },
    {
      "cell_type": "code",
      "source": [
        "#Answer 2\n",
        "def add(a,b):\n",
        "    return a+b\n",
        "\n",
        "def divide(a,b):\n",
        "    return a/b"
      ],
      "metadata": {
        "id": "iY0A-GAufhdH"
      },
      "execution_count": 2,
      "outputs": []
    },
    {
      "cell_type": "code",
      "source": [
        "\n",
        "add(3,5)"
      ],
      "metadata": {
        "colab": {
          "base_uri": "https://localhost:8080/"
        },
        "id": "MWOKvalxfkq9",
        "outputId": "7bfd41fb-6730-4686-e9bc-a8065577f693"
      },
      "execution_count": 3,
      "outputs": [
        {
          "output_type": "execute_result",
          "data": {
            "text/plain": [
              "8"
            ]
          },
          "metadata": {},
          "execution_count": 3
        }
      ]
    },
    {
      "cell_type": "code",
      "source": [
        "divide(4,5)"
      ],
      "metadata": {
        "colab": {
          "base_uri": "https://localhost:8080/"
        },
        "id": "MvcTXkUKfniT",
        "outputId": "6fe82fac-1d03-4bd1-a682-45a26f82806e"
      },
      "execution_count": 4,
      "outputs": [
        {
          "output_type": "execute_result",
          "data": {
            "text/plain": [
              "0.8"
            ]
          },
          "metadata": {},
          "execution_count": 4
        }
      ]
    },
    {
      "cell_type": "code",
      "source": [
        "#Answer 3\n",
        "base = int(input(\"Enter the base of Triangle =\"))\n",
        "Height = int(input(\"Enter the height of Triangle = \"))\n",
        "Area = (Height*base)/2\n",
        "print(\"The Area of Triangle of Base {} , Height {} is {}\".format(base , Height , Area))"
      ],
      "metadata": {
        "colab": {
          "base_uri": "https://localhost:8080/"
        },
        "id": "Y6hReueyfrok",
        "outputId": "879bbff1-df4b-44ee-9370-7bb1ddc3873a"
      },
      "execution_count": 5,
      "outputs": [
        {
          "output_type": "stream",
          "name": "stdout",
          "text": [
            "Enter the base of Triangle =4\n",
            "Enter the height of Triangle = 9\n",
            "The Area of Triangle of Base 4 , Height 9 is 18.0\n"
          ]
        }
      ]
    },
    {
      "cell_type": "code",
      "source": [
        "#Answer 4\n",
        "first_variable = int(input(\"First Variable =\"))\n",
        "second_variable = int(input(\"Second Variable =\"))\n",
        "print(\"First Variable Before swap  : {} \\n Second variable Before Swap  : {}\".format(first_variable,second_variable))\n",
        "first_variable , second_variable = second_variable , first_variable\n",
        "\n",
        "print(\"After Swap : \\n First Variabe : {} \\n  Second Variable : {}\".format(first_variable , second_variable))"
      ],
      "metadata": {
        "colab": {
          "base_uri": "https://localhost:8080/"
        },
        "id": "iW885ANJfwsF",
        "outputId": "1467aa71-256a-4f26-97f0-47eddd3a99de"
      },
      "execution_count": 6,
      "outputs": [
        {
          "output_type": "stream",
          "name": "stdout",
          "text": [
            "First Variable =4\n",
            "Second Variable =5\n",
            "First Variable Before swap  : 4 \n",
            " Second variable Before Swap  : 5\n",
            "After Swap : \n",
            " First Variabe : 5 \n",
            "  Second Variable : 4\n"
          ]
        }
      ]
    },
    {
      "cell_type": "code",
      "source": [
        "#Answer 5\n",
        "import random\n",
        "print(random.randint(0,6))"
      ],
      "metadata": {
        "colab": {
          "base_uri": "https://localhost:8080/"
        },
        "id": "fQhCi0vPgEn8",
        "outputId": "4813b4c5-0d9b-424e-d191-d009c3f156e8"
      },
      "execution_count": 8,
      "outputs": [
        {
          "output_type": "stream",
          "name": "stdout",
          "text": [
            "2\n"
          ]
        }
      ]
    },
    {
      "cell_type": "code",
      "source": [],
      "metadata": {
        "id": "mSD_sYeigI5k"
      },
      "execution_count": null,
      "outputs": []
    }
  ]
}